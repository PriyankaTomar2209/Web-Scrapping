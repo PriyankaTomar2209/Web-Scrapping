{
  "nbformat": 4,
  "nbformat_minor": 0,
  "metadata": {
    "colab": {
      "name": "webscrapper.ipynb",
      "provenance": []
    },
    "kernelspec": {
      "name": "python3",
      "display_name": "Python 3"
    }
  },
  "cells": [
    {
      "cell_type": "markdown",
      "metadata": {
        "id": "1YywHqbEnYhy",
        "colab_type": "text"
      },
      "source": [
        "**web scrapper**"
      ]
    },
    {
      "cell_type": "code",
      "metadata": {
        "id": "sRe9yX4pkmcL",
        "colab_type": "code",
        "colab": {}
      },
      "source": [
        "import requests\n",
        "from bs4 import beautifulsoup\n",
        "import pandas as pd"
      ],
      "execution_count": 2,
      "outputs": []
    },
    {
      "cell_type": "code",
      "metadata": {
        "id": "G_lbeI-ImaqW",
        "colab_type": "code",
        "colab": {}
      },
      "source": [
        "#create a variable with url\n",
        "url = 'https://en.wikipedia.org/wiki/List_of_A_Song_of_Ice_and_Fire_characters'"
      ],
      "execution_count": 5,
      "outputs": []
    },
    {
      "cell_type": "code",
      "metadata": {
        "id": "i0CrhE6rnp5I",
        "colab_type": "code",
        "colab": {}
      },
      "source": [
        "#scrape the html at url\n",
        "r = requests.get(url)"
      ],
      "execution_count": null,
      "outputs": []
    },
    {
      "cell_type": "code",
      "metadata": {
        "id": "F_q50LsGnxrN",
        "colab_type": "code",
        "colab": {}
      },
      "source": [
        "#turn the html in beautifulsoup object\n",
        "soup = beautifulsoup(r.text,\"lxml\")"
      ],
      "execution_count": null,
      "outputs": []
    },
    {
      "cell_type": "code",
      "metadata": {
        "id": "nreXBsFEnxjH",
        "colab_type": "code",
        "colab": {}
      },
      "source": [
        "#create a variable to store scrapped data\n",
        "charater_name=[]\n",
        "\n",
        "#first level scrapping\n",
        "for iteam in soup.find_all('li',{'class':'toclevel-2'})[;,-3]:\n",
        "  #find each span with clas=toctext\n",
        "  for post in iteam.find_all('span',{'class':'toclevel'}):\n",
        "    #add all to charater_namr, one by one\n",
        "    character_name.append(post.string.strip())\n",
        "#view character_name\n",
        "character_name\n",
        "\n",
        "#create a variable to store the for loop result i.e. the last name \n",
        "houses=[]\n",
        "\n",
        "#for each elemet in the character_name list,\n",
        "for name in character_name:\n",
        "  houses.append(name.split('')[-1])\n",
        "    \n",
        "#convert the houses into a pandas series \n",
        "houses = pd.series(houses)\n",
        "\n",
        "#count the number of times each house name appears\n",
        "houses.value_counts()\n",
        "    "
      ],
      "execution_count": null,
      "outputs": []
    }
  ]
}